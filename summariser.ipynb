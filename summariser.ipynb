{
 "cells": [
  {
   "cell_type": "code",
   "execution_count": 4,
   "metadata": {},
   "outputs": [],
   "source": [
    "#pip install transformers faiss-cpu torch sentence-transformers\n"
   ]
  },
  {
   "cell_type": "code",
   "execution_count": null,
   "metadata": {},
   "outputs": [
    {
     "name": "stderr",
     "output_type": "stream",
     "text": [
      "Loading checkpoint shards:   0%|          | 0/4 [00:00<?, ?it/s]"
     ]
    }
   ],
   "source": [
    "from transformers import AutoTokenizer, AutoModelForCausalLM, pipeline\n",
    "from accelerate import infer_auto_device_map, dispatch_model\n",
    "\n",
    "# Path to the model directory\n",
    "model_path = \"/Users/sheebamoghal/Downloads/rag/Llama-3.1-8B-Instruct\"\n",
    "\n",
    "# Load tokenizer\n",
    "tokenizer = AutoTokenizer.from_pretrained(model_path)\n",
    "\n",
    "# Load the model with disk offloading enabled\n",
    "model = AutoModelForCausalLM.from_pretrained(\n",
    "    model_path,\n",
    "    torch_dtype=torch.float16,  # Use float16 to save memory\n",
    "    low_cpu_mem_usage=True      # Optimize memory during loading\n",
    ")\n",
    "\n",
    "# Generate a device map with disk offloading\n",
    "device_map = infer_auto_device_map(\n",
    "    model,\n",
    "    max_memory={\"cpu\": \"48GiB\", \"disk\": \"128GiB\"}  # Adjust memory limits based on your system\n",
    ")\n",
    "\n",
    "# Dispatch the model with disk offloading\n",
    "model = dispatch_model(\n",
    "    model,\n",
    "    device_map=device_map,\n",
    "    offload_dir=\"/tmp\"  # Specify a directory for disk offloading\n",
    ")\n",
    "\n",
    "# Initialize the pipeline\n",
    "text_generator = pipeline(\n",
    "    \"text-generation\",\n",
    "    model=model,\n",
    "    tokenizer=tokenizer,\n",
    "    device_map=device_map\n",
    ")\n",
    "\n",
    "# Generate text\n",
    "input_text = \"Hey, how are you doing today?\"\n",
    "result = text_generator(input_text, max_length=50, num_return_sequences=1)\n",
    "\n",
    "# Print the generated text\n",
    "print(result[0][\"generated_text\"])\n"
   ]
  }
 ],
 "metadata": {
  "kernelspec": {
   "display_name": "new_env",
   "language": "python",
   "name": "python3"
  },
  "language_info": {
   "codemirror_mode": {
    "name": "ipython",
    "version": 3
   },
   "file_extension": ".py",
   "mimetype": "text/x-python",
   "name": "python",
   "nbconvert_exporter": "python",
   "pygments_lexer": "ipython3",
   "version": "3.10.14"
  }
 },
 "nbformat": 4,
 "nbformat_minor": 2
}
