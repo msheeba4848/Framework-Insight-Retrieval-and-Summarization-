{
 "cells": [
  {
   "cell_type": "markdown",
   "id": "2b37eb48-c2d6-45fc-a1e7-2f4e8cfb9d89",
   "metadata": {},
   "source": [
    "## Import libraries"
   ]
  },
  {
   "cell_type": "code",
   "execution_count": 1,
   "id": "b60b9117-393d-4f34-b368-87b2680204a6",
   "metadata": {},
   "outputs": [],
   "source": [
    "import faiss\n",
    "import numpy as np\n",
    "import json\n",
    "from transformers import AutoTokenizer, AutoModel\n",
    "import torch"
   ]
  },
  {
   "cell_type": "code",
   "execution_count": 2,
   "id": "08970951-edf2-49fe-8312-ceb576145747",
   "metadata": {},
   "outputs": [
    {
     "name": "stderr",
     "output_type": "stream",
     "text": [
      "/opt/conda/lib/python3.11/site-packages/huggingface_hub/file_download.py:1142: FutureWarning: `resume_download` is deprecated and will be removed in version 1.0.0. Downloads always resume when possible. If you want to force a new download, use `force_download=True`.\n",
      "  warnings.warn(\n",
      "2024-12-06 18:12:05.988585: I tensorflow/core/platform/cpu_feature_guard.cc:210] This TensorFlow binary is optimized to use available CPU instructions in performance-critical operations.\n",
      "To enable the following instructions: SSE4.1 SSE4.2 AVX AVX2 AVX512F FMA, in other operations, rebuild TensorFlow with the appropriate compiler flags.\n"
     ]
    }
   ],
   "source": [
    "embeddings_path = \"embeddings.npy\"\n",
    "metadata_path = \"metadata_new.json\"\n",
    "index_path = \"legal_cases_index.faiss\"\n",
    "\n",
    "# tokenizer and model\n",
    "model_name = \"sentence-transformers/all-MiniLM-L6-v2\"\n",
    "tokenizer = AutoTokenizer.from_pretrained(model_name)\n",
    "model = AutoModel.from_pretrained(model_name)"
   ]
  },
  {
   "cell_type": "markdown",
   "id": "75fb9a68-8ce2-4d4f-8915-be0681895800",
   "metadata": {},
   "source": [
    "## Load tokenizer and model"
   ]
  },
  {
   "cell_type": "code",
   "execution_count": 3,
   "id": "05c3e087-09b3-4748-9256-35d434550e73",
   "metadata": {},
   "outputs": [],
   "source": [
    "with open(metadata_path, \"r\") as f:\n",
    "    metadata = json.load(f)\n",
    "\n",
    "index = faiss.read_index(index_path)"
   ]
  },
  {
   "cell_type": "markdown",
   "id": "84f0e0a6-0794-4919-ac2b-ba757336fe20",
   "metadata": {},
   "source": [
    "## Embed query text"
   ]
  },
  {
   "cell_type": "code",
   "execution_count": 4,
   "id": "1a161082-83f1-4c7b-bfed-3bcd08f14fce",
   "metadata": {},
   "outputs": [],
   "source": [
    "def embed_text(text):\n",
    "    \"\"\"Generate embeddings for a given text.\"\"\"\n",
    "    inputs = tokenizer(text, return_tensors=\"pt\", padding=True, truncation=True, max_length=512)\n",
    "    with torch.no_grad():\n",
    "        embeddings = model(**inputs).last_hidden_state.mean(dim=1).cpu().numpy()\n",
    "    return embeddings"
   ]
  },
  {
   "cell_type": "markdown",
   "id": "e4d4a72b-7980-42ac-84ce-9a8d30645b0b",
   "metadata": {},
   "source": [
    "## Query the FAISS index"
   ]
  },
  {
   "cell_type": "code",
   "execution_count": 5,
   "id": "80f234c4-230d-47d3-a9e9-3d58b5961331",
   "metadata": {},
   "outputs": [],
   "source": [
    "def query_index(user_query, index, metadata):\n",
    "    \"\"\"Perform a similarity search for the user query.\"\"\"\n",
    "    query_embedding = embed_text(user_query)\n",
    "    k = 5  # Top 5 results\n",
    "    distances, indices = index.search(query_embedding, k)\n",
    "    \n",
    "    results = []\n",
    "    for i, idx in enumerate(indices[0]):\n",
    "        results.append({\n",
    "            \"rank\": i + 1,\n",
    "            \"file\": metadata[idx][\"file\"],\n",
    "            \"text\": metadata[idx][\"text\"],\n",
    "            \"distance\": distances[0][i],\n",
    "        })\n",
    "    return results"
   ]
  },
  {
   "cell_type": "code",
   "execution_count": 6,
   "id": "2a735789-2351-4b93-b8a4-0c326a98bfca",
   "metadata": {},
   "outputs": [
    {
     "name": "stdin",
     "output_type": "stream",
     "text": [
      "Enter your query:  Limitations of freedom of speech\n"
     ]
    },
    {
     "name": "stdout",
     "output_type": "stream",
     "text": [
      "Rank 1:\n",
      "File: 0339-01.json\n",
      "Text: y v. Fisher, 13 Wall. 335, 351, 20 L. Ed. 646.\n",
      "From these authorities three principles may be extracted: (i) In reference to judges of limited and inferior authority, it has been held that they are protected only when they act within their jurisdiction. (2) Judges of courts of superior or general ju\n",
      "Distance: 39.0884\n",
      "\n",
      "Rank 2:\n",
      "File: 0431-01.json\n",
      "Text:  as follows:\n",
      "“That the law of limitations of a foreign country cannot of itself be pleaded, as a bar to an action in this commonwealth seems conceded, and is, indeed, too well settled to be drawn in question. Byrne v. Crowninshield, 17 Mass. 55. The authorities, both from the civil and common law, c\n",
      "Distance: 39.2956\n",
      "\n",
      "Rank 3:\n",
      "File: 0180-01.json\n",
      "Text:  upon the grounds: (1) That prosecutions for the crime alleged to have been committed by the defendants cannot be begun or instituted by information; that the same must be on presentment or indictment by a grand jury; that such information is contrary to the fifth amendment to the Constitution of th\n",
      "Distance: 39.9269\n",
      "\n",
      "Rank 4:\n",
      "File: 0347-01.json\n",
      "Text: ese points. All objections, then, to the complaint, are waived under section 62 of the Code of Civil Procedure (Act June 6, 1900, c. 786, 31 Stat. 342), and objection to the introduction of evidence for want of a proper segregation and separate statement of the facts cannot now avail the defendants.\n",
      "Distance: 40.0098\n",
      "\n",
      "Rank 5:\n",
      "File: 0339-01.json\n",
      "Text: n their jurisdiction. In reference to judges of limited and inferior authority, it has been held that they are protected only when. -they act within their jurisdiction. If this he the case with respect to them, no such limitation exists with respect to judges of superior or general authority. They a\n",
      "Distance: 40.0101\n",
      "\n"
     ]
    }
   ],
   "source": [
    "user_query = input(\"Enter your query: \")\n",
    "results = query_index(user_query, index, metadata)\n",
    "\n",
    "for result in results:\n",
    "    print(f\"Rank {result['rank']}:\")\n",
    "    print(f\"File: {result['file']}\")\n",
    "    print(f\"Text: {result['text']}\")\n",
    "    print(f\"Distance: {result['distance']:.4f}\\n\")"
   ]
  }
 ],
 "metadata": {
  "kernelspec": {
   "display_name": "Python 3 (ipykernel)",
   "language": "python",
   "name": "python3"
  },
  "language_info": {
   "codemirror_mode": {
    "name": "ipython",
    "version": 3
   },
   "file_extension": ".py",
   "mimetype": "text/x-python",
   "name": "python",
   "nbconvert_exporter": "python",
   "pygments_lexer": "ipython3",
   "version": "3.11.10"
  }
 },
 "nbformat": 4,
 "nbformat_minor": 5
}
