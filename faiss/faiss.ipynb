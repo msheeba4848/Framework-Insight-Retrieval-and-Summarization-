{
 "cells": [
  {
   "cell_type": "markdown",
   "id": "9dcbaa63-64c6-489b-a019-dd71cba30aac",
   "metadata": {},
   "source": [
    "# Setup the notebook"
   ]
  },
  {
   "cell_type": "code",
   "execution_count": 1,
   "id": "87695d3f-9fb5-48ab-b964-220e646216d7",
   "metadata": {},
   "outputs": [],
   "source": [
    "#!pip install faiss-cpu numpy transformers"
   ]
  },
  {
   "cell_type": "code",
   "execution_count": 2,
   "id": "dbdc80fd-8512-456d-b142-3d5c735a8a2a",
   "metadata": {},
   "outputs": [],
   "source": [
    "import faiss\n",
    "import json\n",
    "import numpy as np\n",
    "from transformers import AutoTokenizer, AutoModel\n",
    "import torch\n"
   ]
  },
  {
   "cell_type": "code",
   "execution_count": 3,
   "id": "a370fa38-0159-4a89-a9b6-043fa4202d35",
   "metadata": {},
   "outputs": [],
   "source": [
    "# Load FAISS index\n",
    "index = faiss.read_index(\"legal_cases_index.faiss\")\n",
    "\n",
    "# Load metadata\n",
    "with open(\"metadata_new.json\", \"r\") as f:\n",
    "    metadata = json.load(f)"
   ]
  },
  {
   "cell_type": "markdown",
   "id": "bae37e4a-746e-4053-86ac-67cda3863997",
   "metadata": {},
   "source": [
    "# Embedding function"
   ]
  },
  {
   "cell_type": "code",
   "execution_count": 4,
   "id": "770e821f-4591-4912-9304-b952bf42f86b",
   "metadata": {},
   "outputs": [],
   "source": [
    "def embed_text(text):\n",
    "    \"\"\"Generate embeddings for a given text.\"\"\"\n",
    "    model_name = \"sentence-transformers/all-MiniLM-L6-v2\"\n",
    "    tokenizer = AutoTokenizer.from_pretrained(model_name)\n",
    "    model = AutoModel.from_pretrained(model_name)\n",
    "\n",
    "    inputs = tokenizer(text, return_tensors=\"pt\", padding=True, truncation=True, max_length=512)\n",
    "    with torch.no_grad():\n",
    "        embeddings = model(**inputs).last_hidden_state.mean(dim=1).cpu().numpy()\n",
    "    return embeddings\n"
   ]
  },
  {
   "cell_type": "markdown",
   "id": "d4a3e2cc-98ed-46e0-be2a-32b2847205e9",
   "metadata": {},
   "source": [
    "# Query function"
   ]
  },
  {
   "cell_type": "code",
   "execution_count": 5,
   "id": "3e3d7c4a-b641-424d-afdf-507587c22a30",
   "metadata": {},
   "outputs": [],
   "source": [
    "def query_index(user_query, index, metadata):\n",
    "    \"\"\"Perform a query on the FAISS index and return top results.\"\"\"\n",
    "    query_embedding = embed_text(user_query)\n",
    "\n",
    "    k = 5  # Number of top results to return\n",
    "    distances, indices = index.search(query_embedding, k)\n",
    "\n",
    "    results = []\n",
    "    for i, idx in enumerate(indices[0]):\n",
    "        results.append({\n",
    "            \"rank\": i + 1,\n",
    "            \"file\": metadata[idx][\"file\"],\n",
    "            \"text\": metadata[idx][\"text\"],\n",
    "            \"distance\": float(distances[0][i]),\n",
    "        })\n",
    "\n",
    "    return results"
   ]
  },
  {
   "cell_type": "markdown",
   "id": "0639cc2c-c780-4052-9fb8-3fc8bc52a300",
   "metadata": {},
   "source": [
    "# Define interactive query system"
   ]
  },
  {
   "cell_type": "code",
   "execution_count": 6,
   "id": "1e580903-b88b-4c46-b37c-62e79d895c60",
   "metadata": {},
   "outputs": [],
   "source": [
    "def query_system(save_results=True):\n",
    "    \"\"\"Interactive query system with an option to save results.\"\"\"\n",
    "    while True:\n",
    "        print(\"\\nWelcome to the Legal Case Retrieval System!\")\n",
    "        print(\"Type 'exit' at any point to quit.\")\n",
    "        print(\"Select a query type:\")\n",
    "        print(\"1. Search by Name\")\n",
    "        print(\"2. Search by Abbreviation\")\n",
    "        print(\"3. Search by Decision Date\")\n",
    "        print(\"4. Search by Jurisdiction\")\n",
    "        print(\"5. Custom Legal Query\")\n",
    "\n",
    "        choice = input(\"Enter choice (1-5): \").strip()\n",
    "        if choice.lower() == \"exit\":\n",
    "            print(\"Exiting the system. Goodbye!\")\n",
    "            break\n",
    "\n",
    "        query = \"\"\n",
    "        if choice == \"1\":\n",
    "            query = input(\"Enter case name: \").strip()\n",
    "        elif choice == \"2\":\n",
    "            query = input(\"Enter case abbreviation: \").strip()\n",
    "        elif choice == \"3\":\n",
    "            query = input(\"Enter decision date (YYYY-MM-DD): \").strip()\n",
    "        elif choice == \"4\":\n",
    "            query = input(\"Enter jurisdiction: \").strip()\n",
    "        elif choice == \"5\":\n",
    "            query = input(\"Enter your custom query: \").strip()\n",
    "        else:\n",
    "            print(\"Invalid choice. Please try again.\")\n",
    "            continue\n",
    "\n",
    "        if query.lower() == \"exit\":\n",
    "            print(\"Exiting the system. Goodbye!\")\n",
    "            break\n",
    "\n",
    "        # Perform the query using precomputed embeddings and metadata\n",
    "        results = query_index(query, index, metadata)\n",
    "\n",
    "        # Display results\n",
    "        print(\"\\nQuery Results:\")\n",
    "        for result in results:\n",
    "            print(f\"Rank: {result['rank']}\")\n",
    "            print(f\"File: {result['file']}\")\n",
    "            print(f\"Text Snippet: {result['text'][:200]}...\")\n",
    "            print(f\"Distance: {result['distance']:.4f}\")\n",
    "            print(\"\\n\")\n",
    "\n",
    "        if save_results:\n",
    "            output_file = f\"query_results_{choice}.json\"\n",
    "            with open(output_file, \"w\") as f:\n",
    "                json.dump(results, f, indent=4)\n",
    "            print(f\"Results saved to {output_file}\")\n",
    "\n",
    "        print(\"\\nWould you like to perform another query?\")\n"
   ]
  },
  {
   "cell_type": "markdown",
   "id": "f7ce147e-060c-4634-b3f0-1e0745d8c00c",
   "metadata": {},
   "source": [
    "# Interactive query system"
   ]
  },
  {
   "cell_type": "code",
   "execution_count": null,
   "id": "addb894c-2f27-40b6-83a4-1fa62226eb2b",
   "metadata": {},
   "outputs": [
    {
     "name": "stdout",
     "output_type": "stream",
     "text": [
      "\n",
      "Welcome to the Legal Case Retrieval System!\n",
      "Type 'exit' at any point to quit.\n",
      "Select a query type:\n",
      "1. Search by Name\n",
      "2. Search by Abbreviation\n",
      "3. Search by Decision Date\n",
      "4. Search by Jurisdiction\n",
      "5. Custom Legal Query\n"
     ]
    },
    {
     "name": "stdin",
     "output_type": "stream",
     "text": [
      "Enter choice (1-5):  3\n",
      "Enter decision date (YYYY-MM-DD):  1901-11-16\n"
     ]
    },
    {
     "name": "stderr",
     "output_type": "stream",
     "text": [
      "/opt/conda/lib/python3.11/site-packages/huggingface_hub/file_download.py:1142: FutureWarning: `resume_download` is deprecated and will be removed in version 1.0.0. Downloads always resume when possible. If you want to force a new download, use `force_download=True`.\n",
      "  warnings.warn(\n",
      "2024-12-09 04:28:36.168080: I tensorflow/core/platform/cpu_feature_guard.cc:210] This TensorFlow binary is optimized to use available CPU instructions in performance-critical operations.\n",
      "To enable the following instructions: SSE4.1 SSE4.2 AVX AVX2 AVX512F FMA, in other operations, rebuild TensorFlow with the appropriate compiler flags.\n"
     ]
    },
    {
     "name": "stdout",
     "output_type": "stream",
     "text": [
      "\n",
      "Query Results:\n",
      "Rank: 1\n",
      "File: 0570-01.json\n",
      "Text Snippet: uary, 1901, but made no further examination to ascertain whether or not these people had any valid claim to the property, because of his opinion that the title of Pitcher, through whom they obtained t...\n",
      "Distance: 29.6576\n",
      "\n",
      "\n",
      "Rank: 2\n",
      "File: 0575-01.json\n",
      "Text Snippet: s now pending on appeal. This point is based upon the contents of an order made and entered on August 12, 1901, as follows:\n",
      "“It is hereby ordered in the above-entitled cause that all proceedings there...\n",
      "Distance: 29.8681\n",
      "\n",
      "\n",
      "Rank: 3\n",
      "File: 0204-01.json\n",
      "Text Snippet: s case it appears that, after the court made its order and injunction of November 28, 1900, and also its order of August 7, 1901, the defendants in this proceeding, Price and Tremper, went upon the pr...\n",
      "Distance: 30.7524\n",
      "\n",
      "\n",
      "Rank: 4\n",
      "File: 0439-01.json\n",
      "Text Snippet: date of bringing this action (December 24, 1900). The plaintiff further contends that, under the statute passed on June 6, 1900, it would have one year in which to bring its action after June 6, 1900....\n",
      "Distance: 31.2738\n",
      "\n",
      "\n",
      "Rank: 5\n",
      "File: 0344-01.json\n",
      "Text Snippet: WICKERSHAM, District Judge.\n",
      "The record in this case shows that the verdict of the jury was rendered on the 13th day of April, 1901, and that final judgment was entered on the verdict on the 15th day o...\n",
      "Distance: 31.6375\n",
      "\n",
      "\n",
      "Results saved to query_results_3.json\n",
      "\n",
      "Would you like to perform another query?\n",
      "\n",
      "Welcome to the Legal Case Retrieval System!\n",
      "Type 'exit' at any point to quit.\n",
      "Select a query type:\n",
      "1. Search by Name\n",
      "2. Search by Abbreviation\n",
      "3. Search by Decision Date\n",
      "4. Search by Jurisdiction\n",
      "5. Custom Legal Query\n"
     ]
    },
    {
     "name": "stdin",
     "output_type": "stream",
     "text": [
      "Enter choice (1-5):  1\n",
      "Enter case name:  Colbert v Broadway\n"
     ]
    },
    {
     "name": "stderr",
     "output_type": "stream",
     "text": [
      "/opt/conda/lib/python3.11/site-packages/huggingface_hub/file_download.py:1142: FutureWarning: `resume_download` is deprecated and will be removed in version 1.0.0. Downloads always resume when possible. If you want to force a new download, use `force_download=True`.\n",
      "  warnings.warn(\n"
     ]
    },
    {
     "name": "stdout",
     "output_type": "stream",
     "text": [
      "\n",
      "Query Results:\n",
      "Rank: 1\n",
      "File: 0407-01.json\n",
      "Text Snippet:  Ed. 59; Railroad Co. v. Converse, 139 U. S. 469, 11 Sup. Ct. 569, 35 L. Ed. 213; Gowen v. Harley, 6 C. C. A. 190, 56 Fed. 973, 12 U. S. App. 574; Chicago G. W. Ry. Co. v. Price, 38 C. C. A. 239, 97 F...\n",
      "Distance: 61.0792\n",
      "\n",
      "\n",
      "Rank: 2\n",
      "File: 0570-01.json\n",
      "Text Snippet: court, and the defendants will not now be-heard to question the technical form of the action.\n",
      "Upon the facts, I am compelled to render judgment in. favor of the plaintiffs. At the time of the defendan...\n",
      "Distance: 61.1685\n",
      "\n",
      "\n",
      "Rank: 3\n",
      "File: 0561-01.json\n",
      "Text Snippet:  jury as offered, and, after a careful consideration of the authorities, is satisfied that no error was committed in so doing. Boyce v. California Stage Co., 25 Cal. 460; Roberts v. Graham, 6 Wall. 57...\n",
      "Distance: 61.5271\n",
      "\n",
      "\n",
      "Rank: 4\n",
      "File: 0081-01.json\n",
      "Text Snippet: ever been chance of doubt since the Magna Charta. Chalker v. Dickenson, 1 Conn. 382, 6 Am. Dec. 250; Collins v. Benbury, 25 N. C. 277, 38 Am. Dec. 722; Carson v. Blazer, 4 Am. Dec. 463; Commonwealth v...\n",
      "Distance: 61.6273\n",
      "\n",
      "\n",
      "Rank: 5\n",
      "File: 0217-01.json\n",
      "Text Snippet: BROWN, District Judge\n",
      "(orally). In the case of the United States v. The Alaska Packers’ Association and J. Babler, an indictment has been returned by the grand jury, which, omitting the formal parts, ...\n",
      "Distance: 61.9930\n",
      "\n",
      "\n",
      "Results saved to query_results_1.json\n",
      "\n",
      "Would you like to perform another query?\n",
      "\n",
      "Welcome to the Legal Case Retrieval System!\n",
      "Type 'exit' at any point to quit.\n",
      "Select a query type:\n",
      "1. Search by Name\n",
      "2. Search by Abbreviation\n",
      "3. Search by Decision Date\n",
      "4. Search by Jurisdiction\n",
      "5. Custom Legal Query\n"
     ]
    },
    {
     "name": "stdin",
     "output_type": "stream",
     "text": [
      "Enter choice (1-5):  1\n",
      "Enter case name:  Colbert\n"
     ]
    },
    {
     "name": "stdout",
     "output_type": "stream",
     "text": [
      "\n",
      "Query Results:\n",
      "Rank: 1\n",
      "File: 0630-01.json\n",
      "Text Snippet: ted States, which reads as follows:\n",
      "“The Congress shall have power to lay and collect taxes, duties, imposts and excises, to pay the debts and provide for the common defense and general welfare of the...\n",
      "Distance: 63.1039\n",
      "\n",
      "\n",
      "Rank: 2\n",
      "File: 0114-01.json\n",
      "Text Snippet: ted States, 42 C. C. A. 452, 102 Fed. 473; McAllister v. United States, 141 U. S. 174, 11 Sup. Ct. 949, 35 L. Ed. 693; Ex parte Cooper, 143 U. S. 472, 12 Sup. Ct. 453, 36 L. Ed. 232. In legislating fo...\n",
      "Distance: 63.1185\n",
      "\n",
      "\n",
      "Rank: 3\n",
      "File: 0111-01.json\n",
      "Text Snippet: BROWN, District Judge.\n",
      "The petition of Samuel Burton states that he is a native of British Columbia, now and for many years a resident of Alaska, and he prays to be admitted to citizenship in the Unit...\n",
      "Distance: 63.2825\n",
      "\n",
      "\n",
      "Rank: 4\n",
      "File: 0658-01.json\n",
      "Text Snippet: an v. M. E. Handy et al. Notice of Appeal. To John E. Dillon, Attorney for Plaintiff Herein: You will please take notice that the defendants in the above-entitled action hereby appeal to the U. S. Dis...\n",
      "Distance: 63.8752\n",
      "\n",
      "\n",
      "Rank: 5\n",
      "File: 0217-01.json\n",
      "Text Snippet: BROWN, District Judge\n",
      "(orally). In the case of the United States v. The Alaska Packers’ Association and J. Babler, an indictment has been returned by the grand jury, which, omitting the formal parts, ...\n",
      "Distance: 64.0091\n",
      "\n",
      "\n",
      "Results saved to query_results_1.json\n",
      "\n",
      "Would you like to perform another query?\n",
      "\n",
      "Welcome to the Legal Case Retrieval System!\n",
      "Type 'exit' at any point to quit.\n",
      "Select a query type:\n",
      "1. Search by Name\n",
      "2. Search by Abbreviation\n",
      "3. Search by Decision Date\n",
      "4. Search by Jurisdiction\n",
      "5. Custom Legal Query\n"
     ]
    },
    {
     "name": "stdin",
     "output_type": "stream",
     "text": [
      "Enter choice (1-5):  5\n",
      "Enter your custom query:  Colbert\n"
     ]
    },
    {
     "name": "stdout",
     "output_type": "stream",
     "text": [
      "\n",
      "Query Results:\n",
      "Rank: 1\n",
      "File: 0630-01.json\n",
      "Text Snippet: ted States, which reads as follows:\n",
      "“The Congress shall have power to lay and collect taxes, duties, imposts and excises, to pay the debts and provide for the common defense and general welfare of the...\n",
      "Distance: 63.1039\n",
      "\n",
      "\n",
      "Rank: 2\n",
      "File: 0114-01.json\n",
      "Text Snippet: ted States, 42 C. C. A. 452, 102 Fed. 473; McAllister v. United States, 141 U. S. 174, 11 Sup. Ct. 949, 35 L. Ed. 693; Ex parte Cooper, 143 U. S. 472, 12 Sup. Ct. 453, 36 L. Ed. 232. In legislating fo...\n",
      "Distance: 63.1185\n",
      "\n",
      "\n",
      "Rank: 3\n",
      "File: 0111-01.json\n",
      "Text Snippet: BROWN, District Judge.\n",
      "The petition of Samuel Burton states that he is a native of British Columbia, now and for many years a resident of Alaska, and he prays to be admitted to citizenship in the Unit...\n",
      "Distance: 63.2825\n",
      "\n",
      "\n",
      "Rank: 4\n",
      "File: 0658-01.json\n",
      "Text Snippet: an v. M. E. Handy et al. Notice of Appeal. To John E. Dillon, Attorney for Plaintiff Herein: You will please take notice that the defendants in the above-entitled action hereby appeal to the U. S. Dis...\n",
      "Distance: 63.8752\n",
      "\n",
      "\n",
      "Rank: 5\n",
      "File: 0217-01.json\n",
      "Text Snippet: BROWN, District Judge\n",
      "(orally). In the case of the United States v. The Alaska Packers’ Association and J. Babler, an indictment has been returned by the grand jury, which, omitting the formal parts, ...\n",
      "Distance: 64.0091\n",
      "\n",
      "\n",
      "Results saved to query_results_5.json\n",
      "\n",
      "Would you like to perform another query?\n",
      "\n",
      "Welcome to the Legal Case Retrieval System!\n",
      "Type 'exit' at any point to quit.\n",
      "Select a query type:\n",
      "1. Search by Name\n",
      "2. Search by Abbreviation\n",
      "3. Search by Decision Date\n",
      "4. Search by Jurisdiction\n",
      "5. Custom Legal Query\n"
     ]
    },
    {
     "name": "stdin",
     "output_type": "stream",
     "text": [
      "Enter choice (1-5):  3\n",
      "Enter decision date (YYYY-MM-DD):  1901-11-16\n"
     ]
    },
    {
     "name": "stdout",
     "output_type": "stream",
     "text": [
      "\n",
      "Query Results:\n",
      "Rank: 1\n",
      "File: 0570-01.json\n",
      "Text Snippet: uary, 1901, but made no further examination to ascertain whether or not these people had any valid claim to the property, because of his opinion that the title of Pitcher, through whom they obtained t...\n",
      "Distance: 29.6576\n",
      "\n",
      "\n",
      "Rank: 2\n",
      "File: 0575-01.json\n",
      "Text Snippet: s now pending on appeal. This point is based upon the contents of an order made and entered on August 12, 1901, as follows:\n",
      "“It is hereby ordered in the above-entitled cause that all proceedings there...\n",
      "Distance: 29.8681\n",
      "\n",
      "\n",
      "Rank: 3\n",
      "File: 0204-01.json\n",
      "Text Snippet: s case it appears that, after the court made its order and injunction of November 28, 1900, and also its order of August 7, 1901, the defendants in this proceeding, Price and Tremper, went upon the pr...\n",
      "Distance: 30.7524\n",
      "\n",
      "\n",
      "Rank: 4\n",
      "File: 0439-01.json\n",
      "Text Snippet: date of bringing this action (December 24, 1900). The plaintiff further contends that, under the statute passed on June 6, 1900, it would have one year in which to bring its action after June 6, 1900....\n",
      "Distance: 31.2738\n",
      "\n",
      "\n",
      "Rank: 5\n",
      "File: 0344-01.json\n",
      "Text Snippet: WICKERSHAM, District Judge.\n",
      "The record in this case shows that the verdict of the jury was rendered on the 13th day of April, 1901, and that final judgment was entered on the verdict on the 15th day o...\n",
      "Distance: 31.6375\n",
      "\n",
      "\n",
      "Results saved to query_results_3.json\n",
      "\n",
      "Would you like to perform another query?\n",
      "\n",
      "Welcome to the Legal Case Retrieval System!\n",
      "Type 'exit' at any point to quit.\n",
      "Select a query type:\n",
      "1. Search by Name\n",
      "2. Search by Abbreviation\n",
      "3. Search by Decision Date\n",
      "4. Search by Jurisdiction\n",
      "5. Custom Legal Query\n"
     ]
    },
    {
     "name": "stdin",
     "output_type": "stream",
     "text": [
      "Enter choice (1-5):  5\n",
      "Enter your custom query:  What about 1901-11-16?\n"
     ]
    },
    {
     "name": "stdout",
     "output_type": "stream",
     "text": [
      "\n",
      "Query Results:\n",
      "Rank: 1\n",
      "File: 0439-01.json\n",
      "Text Snippet: date of bringing this action (December 24, 1900). The plaintiff further contends that, under the statute passed on June 6, 1900, it would have one year in which to bring its action after June 6, 1900....\n",
      "Distance: 23.8545\n",
      "\n",
      "\n",
      "Rank: 2\n",
      "File: 0575-01.json\n",
      "Text Snippet: s now pending on appeal. This point is based upon the contents of an order made and entered on August 12, 1901, as follows:\n",
      "“It is hereby ordered in the above-entitled cause that all proceedings there...\n",
      "Distance: 24.0466\n",
      "\n",
      "\n",
      "Rank: 3\n",
      "File: 0286-01.json\n",
      "Text Snippet: n contravention of the established customs of the mining region. Therefore it was modified by the act of May 10, 1872, so as to provide for exceptional cases where reason and common sense required a d...\n",
      "Distance: 24.5631\n",
      "\n",
      "\n",
      "Rank: 4\n",
      "File: 0439-01.json\n",
      "Text Snippet: refore, that the proviso attached to section 4 of the act of June 6, 1900, was a mere reiteration and adoption of the old Oregon statute, and it can have no possible meaning or effect as applied to co...\n",
      "Distance: 25.0861\n",
      "\n",
      "\n",
      "Rank: 5\n",
      "File: 0568-01.json\n",
      "Text Snippet:  docket shows that the next step in the case occurred on November 2d, when the case was set for trial on November 5, 1900, at 10 a. m.; but again the record fails to show any appearance, trial, or pos...\n",
      "Distance: 25.1226\n",
      "\n",
      "\n",
      "Results saved to query_results_5.json\n",
      "\n",
      "Would you like to perform another query?\n",
      "\n",
      "Welcome to the Legal Case Retrieval System!\n",
      "Type 'exit' at any point to quit.\n",
      "Select a query type:\n",
      "1. Search by Name\n",
      "2. Search by Abbreviation\n",
      "3. Search by Decision Date\n",
      "4. Search by Jurisdiction\n",
      "5. Custom Legal Query\n"
     ]
    }
   ],
   "source": [
    "query_system()"
   ]
  }
 ],
 "metadata": {
  "kernelspec": {
   "display_name": "Python 3 (ipykernel)",
   "language": "python",
   "name": "python3"
  },
  "language_info": {
   "codemirror_mode": {
    "name": "ipython",
    "version": 3
   },
   "file_extension": ".py",
   "mimetype": "text/x-python",
   "name": "python",
   "nbconvert_exporter": "python",
   "pygments_lexer": "ipython3",
   "version": "3.11.10"
  }
 },
 "nbformat": 4,
 "nbformat_minor": 5
}
