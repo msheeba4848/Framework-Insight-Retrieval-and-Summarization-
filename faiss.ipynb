{
 "cells": [
  {
   "cell_type": "markdown",
   "id": "9dcbaa63-64c6-489b-a019-dd71cba30aac",
   "metadata": {},
   "source": [
    "# Setup the notebook"
   ]
  },
  {
   "cell_type": "code",
   "execution_count": 1,
   "id": "87695d3f-9fb5-48ab-b964-220e646216d7",
   "metadata": {},
   "outputs": [],
   "source": [
    "#!pip install faiss-cpu numpy transformers"
   ]
  },
  {
   "cell_type": "code",
   "execution_count": 2,
   "id": "dbdc80fd-8512-456d-b142-3d5c735a8a2a",
   "metadata": {},
   "outputs": [],
   "source": [
    "import faiss\n",
    "import json\n",
    "import numpy as np\n",
    "from transformers import AutoTokenizer, AutoModel\n",
    "import torch\n"
   ]
  },
  {
   "cell_type": "code",
   "execution_count": 3,
   "id": "a370fa38-0159-4a89-a9b6-043fa4202d35",
   "metadata": {},
   "outputs": [],
   "source": [
    "# Load FAISS index\n",
    "index = faiss.read_index(\"legal_cases_index.faiss\")\n",
    "\n",
    "# Load metadata\n",
    "with open(\"metadata_new.json\", \"r\") as f:\n",
    "    metadata = json.load(f)"
   ]
  },
  {
   "cell_type": "markdown",
   "id": "bae37e4a-746e-4053-86ac-67cda3863997",
   "metadata": {},
   "source": [
    "# Embedding function"
   ]
  },
  {
   "cell_type": "code",
   "execution_count": 4,
   "id": "770e821f-4591-4912-9304-b952bf42f86b",
   "metadata": {},
   "outputs": [],
   "source": [
    "def embed_text(text):\n",
    "    \"\"\"Generate embeddings for a given text.\"\"\"\n",
    "    model_name = \"sentence-transformers/all-MiniLM-L6-v2\"\n",
    "    tokenizer = AutoTokenizer.from_pretrained(model_name)\n",
    "    model = AutoModel.from_pretrained(model_name)\n",
    "\n",
    "    inputs = tokenizer(text, return_tensors=\"pt\", padding=True, truncation=True, max_length=512)\n",
    "    with torch.no_grad():\n",
    "        embeddings = model(**inputs).last_hidden_state.mean(dim=1).cpu().numpy()\n",
    "    return embeddings\n"
   ]
  },
  {
   "cell_type": "markdown",
   "id": "d4a3e2cc-98ed-46e0-be2a-32b2847205e9",
   "metadata": {},
   "source": [
    "# Query function"
   ]
  },
  {
   "cell_type": "code",
   "execution_count": 5,
   "id": "3e3d7c4a-b641-424d-afdf-507587c22a30",
   "metadata": {},
   "outputs": [],
   "source": [
    "def query_index(user_query, index, metadata):\n",
    "    \"\"\"Perform a query on the FAISS index and return top results.\"\"\"\n",
    "    query_embedding = embed_text(user_query)\n",
    "\n",
    "    k = 5  # Number of top results to return\n",
    "    distances, indices = index.search(query_embedding, k)\n",
    "\n",
    "    results = []\n",
    "    for i, idx in enumerate(indices[0]):\n",
    "        results.append({\n",
    "            \"rank\": i + 1,\n",
    "            \"file\": metadata[idx][\"file\"],\n",
    "            \"text\": metadata[idx][\"text\"],\n",
    "            \"distance\": float(distances[0][i]),\n",
    "        })\n",
    "\n",
    "    return results"
   ]
  },
  {
   "cell_type": "markdown",
   "id": "0639cc2c-c780-4052-9fb8-3fc8bc52a300",
   "metadata": {},
   "source": [
    "# Define interactive query system"
   ]
  },
  {
   "cell_type": "code",
   "execution_count": 6,
   "id": "1e580903-b88b-4c46-b37c-62e79d895c60",
   "metadata": {},
   "outputs": [],
   "source": [
    "def query_system(save_results=True):\n",
    "    \"\"\"Interactive query system with an option to save results.\"\"\"\n",
    "    while True:\n",
    "        print(\"\\nWelcome to the Legal Case Retrieval System!\")\n",
    "        print(\"Type 'exit' at any point to quit.\")\n",
    "        print(\"Select a query type:\")\n",
    "        print(\"1. Search by Name\")\n",
    "        print(\"2. Search by Abbreviation\")\n",
    "        print(\"3. Search by Decision Date\")\n",
    "        print(\"4. Search by Jurisdiction\")\n",
    "        print(\"5. Custom Legal Query\")\n",
    "\n",
    "        choice = input(\"Enter choice (1-5): \").strip()\n",
    "        if choice.lower() == \"exit\":\n",
    "            print(\"Exiting the system. Goodbye!\")\n",
    "            break\n",
    "\n",
    "        query = \"\"\n",
    "        if choice == \"1\":\n",
    "            query = input(\"Enter case name: \").strip()\n",
    "        elif choice == \"2\":\n",
    "            query = input(\"Enter case abbreviation: \").strip()\n",
    "        elif choice == \"3\":\n",
    "            query = input(\"Enter decision date (YYYY-MM-DD): \").strip()\n",
    "        elif choice == \"4\":\n",
    "            query = input(\"Enter jurisdiction: \").strip()\n",
    "        elif choice == \"5\":\n",
    "            query = input(\"Enter your custom query: \").strip()\n",
    "        else:\n",
    "            print(\"Invalid choice. Please try again.\")\n",
    "            continue\n",
    "\n",
    "        if query.lower() == \"exit\":\n",
    "            print(\"Exiting the system. Goodbye!\")\n",
    "            break\n",
    "\n",
    "        # Perform the query using precomputed embeddings and metadata\n",
    "        results = query_index(query, index, metadata)\n",
    "\n",
    "        # Display results\n",
    "        print(\"\\nQuery Results:\")\n",
    "        for result in results:\n",
    "            print(f\"Rank: {result['rank']}\")\n",
    "            print(f\"File: {result['file']}\")\n",
    "            print(f\"Text Snippet: {result['text'][:200]}...\")\n",
    "            print(f\"Distance: {result['distance']:.4f}\")\n",
    "            print(\"\\n\")\n",
    "\n",
    "        if save_results:\n",
    "            output_file = f\"query_results_{choice}.json\"\n",
    "            with open(output_file, \"w\") as f:\n",
    "                json.dump(results, f, indent=4)\n",
    "            print(f\"Results saved to {output_file}\")\n",
    "\n",
    "        print(\"\\nWould you like to perform another query?\")\n"
   ]
  },
  {
   "cell_type": "markdown",
   "id": "f7ce147e-060c-4634-b3f0-1e0745d8c00c",
   "metadata": {},
   "source": [
    "# Interactive query system"
   ]
  },
  {
   "cell_type": "code",
   "execution_count": 7,
   "id": "addb894c-2f27-40b6-83a4-1fa62226eb2b",
   "metadata": {},
   "outputs": [
    {
     "name": "stdout",
     "output_type": "stream",
     "text": [
      "\n",
      "Welcome to the Legal Case Retrieval System!\n",
      "Type 'exit' at any point to quit.\n",
      "Select a query type:\n",
      "1. Search by Name\n",
      "2. Search by Abbreviation\n",
      "3. Search by Decision Date\n",
      "4. Search by Jurisdiction\n",
      "5. Custom Legal Query\n"
     ]
    },
    {
     "name": "stdin",
     "output_type": "stream",
     "text": [
      "Enter choice (1-5):  1\n",
      "Enter case name:  morgan\n"
     ]
    },
    {
     "name": "stderr",
     "output_type": "stream",
     "text": [
      "/opt/conda/lib/python3.11/site-packages/huggingface_hub/file_download.py:1142: FutureWarning: `resume_download` is deprecated and will be removed in version 1.0.0. Downloads always resume when possible. If you want to force a new download, use `force_download=True`.\n",
      "  warnings.warn(\n",
      "2024-12-07 16:40:19.535149: I tensorflow/core/platform/cpu_feature_guard.cc:210] This TensorFlow binary is optimized to use available CPU instructions in performance-critical operations.\n",
      "To enable the following instructions: SSE4.1 SSE4.2 AVX AVX2 AVX512F FMA, in other operations, rebuild TensorFlow with the appropriate compiler flags.\n"
     ]
    },
    {
     "name": "stdout",
     "output_type": "stream",
     "text": [
      "\n",
      "Query Results:\n",
      "Rank: 1\n",
      "File: 0353-01.json\n",
      "Text Snippet:  they performed their services depending upon any lien upon the vessel, or that they had any contract of that kind. The C. Vanderbilt (D. C.) 86 Fed. 785.\n",
      "In the case of The Mary Morgan (D. C.) 28 Fed...\n",
      "Distance: 51.2585\n",
      "\n",
      "\n",
      "Rank: 2\n",
      "File: 0353-01.json\n",
      "Text Snippet: sent, at their home and at the home port of the vessel, an implied lien in admiralty will not be presumed. Unless a contract lien is shown, and unless a lien is specially given by the legal owner for ...\n",
      "Distance: 52.3619\n",
      "\n",
      "\n",
      "Rank: 3\n",
      "File: 0121-01.json\n",
      "Text Snippet: f, and on the affidavit of R. W. Jennings, hereunto attached.\n",
      "“A. K. Delaney,\n",
      "“R. W. Jennings,\n",
      "“Attorneys for Defendants.”\n",
      "The affidavit referred to recites the particulars of the failure of the jury ...\n",
      "Distance: 52.5945\n",
      "\n",
      "\n",
      "Rank: 4\n",
      "File: 0431-01.json\n",
      "Text Snippet:  bar was fully discussed, with the same conclusion as that reached by Chief Justice Kent in the case heretofore referred to. The same question was also before the court of Maryland in the case of Maso...\n",
      "Distance: 52.9272\n",
      "\n",
      "\n",
      "Rank: 5\n",
      "File: 0607-01.json\n",
      "Text Snippet:  Leaner . 15 00'\n",
      "Wm. Prichard .\".. 6 OO\n",
      "D. O. Gilman . 15 OO\n",
      "Magnus Norman . 15 00'\n",
      "Thomas Jackson . 6 00\n",
      "Thomas A. Johnson . 6 00'\n",
      "A. McClellan . 15 OO\n",
      "L. W. Nestelle . ■ 30 O'O'\n",
      "A. G. Kingsbury . 30...\n",
      "Distance: 53.9155\n",
      "\n",
      "\n",
      "Results saved to query_results_1.json\n",
      "\n",
      "Would you like to perform another query?\n",
      "\n",
      "Welcome to the Legal Case Retrieval System!\n",
      "Type 'exit' at any point to quit.\n",
      "Select a query type:\n",
      "1. Search by Name\n",
      "2. Search by Abbreviation\n",
      "3. Search by Decision Date\n",
      "4. Search by Jurisdiction\n",
      "5. Custom Legal Query\n"
     ]
    },
    {
     "name": "stdin",
     "output_type": "stream",
     "text": [
      "Enter choice (1-5):  3\n",
      "Enter decision date (YYYY-MM-DD):  1887-10-28\n"
     ]
    },
    {
     "name": "stderr",
     "output_type": "stream",
     "text": [
      "/opt/conda/lib/python3.11/site-packages/huggingface_hub/file_download.py:1142: FutureWarning: `resume_download` is deprecated and will be removed in version 1.0.0. Downloads always resume when possible. If you want to force a new download, use `force_download=True`.\n",
      "  warnings.warn(\n"
     ]
    },
    {
     "name": "stdout",
     "output_type": "stream",
     "text": [
      "\n",
      "Query Results:\n",
      "Rank: 1\n",
      "File: 0036-01.json\n",
      "Text Snippet: 88. He went to work there himself about July 30, 1889, to repair it, but at that time defendant Coon came along and claimed it.\n",
      "It seems conclusively established by the evidence that the water was not...\n",
      "Distance: 27.9745\n",
      "\n",
      "\n",
      "Rank: 2\n",
      "File: 0001-01.json\n",
      "Text Snippet: e on October 29, 1887, at which time the defendant made return to the suit, embodying substantially the contract of enlistment, and producing the body of Scott Oliver in court. The only evidence in th...\n",
      "Distance: 28.1112\n",
      "\n",
      "\n",
      "Rank: 3\n",
      "File: 0264-01.json\n",
      "Text Snippet: me, Teonhurtz marked the boundaries of No. 15, and during the year 1899, about the time Pearson first gave any legal life to No. 14, the Golovin Bay Mining Company was in-possession of No. 15, working...\n",
      "Distance: 28.8708\n",
      "\n",
      "\n",
      "Rank: 4\n",
      "File: 0570-01.json\n",
      "Text Snippet: uary, 1901, but made no further examination to ascertain whether or not these people had any valid claim to the property, because of his opinion that the title of Pitcher, through whom they obtained t...\n",
      "Distance: 29.4644\n",
      "\n",
      "\n",
      "Rank: 5\n",
      "File: 0308-01.json\n",
      "Text Snippet: er 12, 1900, referred it to Arthur H. Wright, to hear the testimony and make and report findings of facts and conclusions of law upon the merits. Notice was given to the attorney for the plaintiff on ...\n",
      "Distance: 29.6587\n",
      "\n",
      "\n",
      "Results saved to query_results_3.json\n",
      "\n",
      "Would you like to perform another query?\n",
      "\n",
      "Welcome to the Legal Case Retrieval System!\n",
      "Type 'exit' at any point to quit.\n",
      "Select a query type:\n",
      "1. Search by Name\n",
      "2. Search by Abbreviation\n",
      "3. Search by Decision Date\n",
      "4. Search by Jurisdiction\n",
      "5. Custom Legal Query\n"
     ]
    },
    {
     "name": "stdin",
     "output_type": "stream",
     "text": [
      "Enter choice (1-5):  exit\n"
     ]
    },
    {
     "name": "stdout",
     "output_type": "stream",
     "text": [
      "Exiting the system. Goodbye!\n"
     ]
    }
   ],
   "source": [
    "query_system()"
   ]
  }
 ],
 "metadata": {
  "kernelspec": {
   "display_name": "Python 3 (ipykernel)",
   "language": "python",
   "name": "python3"
  },
  "language_info": {
   "codemirror_mode": {
    "name": "ipython",
    "version": 3
   },
   "file_extension": ".py",
   "mimetype": "text/x-python",
   "name": "python",
   "nbconvert_exporter": "python",
   "pygments_lexer": "ipython3",
   "version": "3.11.10"
  }
 },
 "nbformat": 4,
 "nbformat_minor": 5
}
