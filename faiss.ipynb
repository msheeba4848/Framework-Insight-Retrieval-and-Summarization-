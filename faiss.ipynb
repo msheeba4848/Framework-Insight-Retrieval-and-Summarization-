{
 "cells": [
  {
   "cell_type": "markdown",
   "id": "9dcbaa63-64c6-489b-a019-dd71cba30aac",
   "metadata": {},
   "source": [
    "# Setup the notebook"
   ]
  },
  {
   "cell_type": "code",
   "execution_count": 13,
   "id": "87695d3f-9fb5-48ab-b964-220e646216d7",
   "metadata": {},
   "outputs": [],
   "source": [
    "#!pip install faiss-cpu numpy transformers"
   ]
  },
  {
   "cell_type": "code",
   "execution_count": 21,
   "id": "1906231d-a767-4531-a8ad-c90625fdd385",
   "metadata": {},
   "outputs": [
    {
     "name": "stdout",
     "output_type": "stream",
     "text": [
      "Embeddings shape: (3777, 384)\n",
      "Metadata entries: 3777\n",
      "FAISS index size: 3777\n"
     ]
    }
   ],
   "source": [
    "# Load metadata and embeddings\n",
    "embeddings = np.load(\"data/faiss_embeddings.npy\", allow_pickle=True)\n",
    "with open(\"metadata_new.json\", \"r\") as f:\n",
    "    metadata = json.load(f)\n",
    "\n",
    "# Check alignment\n",
    "assert len(metadata) == embeddings.shape[0], \"Mismatch between metadata and embeddings count!\"\n",
    "\n",
    "# Validate embeddings array shape\n",
    "print(f\"Embeddings shape: {embeddings.shape}\")\n",
    "\n",
    "# Validate metadata\n",
    "print(f\"Metadata entries: {len(metadata)}\")\n",
    "\n",
    "# Validate FAISS index size\n",
    "print(f\"FAISS index size: {index.ntotal}\")\n",
    "\n"
   ]
  },
  {
   "cell_type": "code",
   "execution_count": 22,
   "id": "dbdc80fd-8512-456d-b142-3d5c735a8a2a",
   "metadata": {},
   "outputs": [],
   "source": [
    "import faiss\n",
    "import json\n",
    "import numpy as np\n",
    "from transformers import AutoTokenizer, AutoModel\n",
    "import torch\n"
   ]
  },
  {
   "cell_type": "code",
   "execution_count": 23,
   "id": "a370fa38-0159-4a89-a9b6-043fa4202d35",
   "metadata": {},
   "outputs": [],
   "source": [
    "# Load FAISS index\n",
    "index = faiss.read_index(\"data/legal_cases_index.faiss\")\n",
    "\n",
    "# Load metadata\n",
    "with open(\"data/metadata.json\", \"r\") as f:\n",
    "    metadata = json.load(f)"
   ]
  },
  {
   "cell_type": "markdown",
   "id": "bae37e4a-746e-4053-86ac-67cda3863997",
   "metadata": {},
   "source": [
    "# Embedding function"
   ]
  },
  {
   "cell_type": "code",
   "execution_count": 24,
   "id": "770e821f-4591-4912-9304-b952bf42f86b",
   "metadata": {},
   "outputs": [],
   "source": [
    "def embed_text(text):\n",
    "    \"\"\"Generate embeddings for a given text.\"\"\"\n",
    "    model_name = \"sentence-transformers/all-MiniLM-L6-v2\"\n",
    "    tokenizer = AutoTokenizer.from_pretrained(model_name)\n",
    "    model = AutoModel.from_pretrained(model_name)\n",
    "\n",
    "    inputs = tokenizer(text, return_tensors=\"pt\", padding=True, truncation=True, max_length=512)\n",
    "    with torch.no_grad():\n",
    "        embeddings = model(**inputs).last_hidden_state.mean(dim=1).cpu().numpy()\n",
    "    return embeddings\n"
   ]
  },
  {
   "cell_type": "markdown",
   "id": "d4a3e2cc-98ed-46e0-be2a-32b2847205e9",
   "metadata": {},
   "source": [
    "# Query function"
   ]
  },
  {
   "cell_type": "code",
   "execution_count": 25,
   "id": "3e3d7c4a-b641-424d-afdf-507587c22a30",
   "metadata": {},
   "outputs": [],
   "source": [
    "def query_index(user_query, index, metadata):\n",
    "    \"\"\"Perform a query on the FAISS index and return top results.\"\"\"\n",
    "    query_embedding = embed_text(user_query)\n",
    "\n",
    "    k = 5  # Number of top results to return\n",
    "    distances, indices = index.search(query_embedding, k)\n",
    "\n",
    "    # Debugging query results\n",
    "    print(f\"Query embedding shape: {query_embedding.shape}\")\n",
    "    print(f\"Distances: {distances}\")\n",
    "    print(f\"Indices: {indices}\")\n",
    "\n",
    "    results = []\n",
    "    for i, idx in enumerate(indices[0]):\n",
    "        if idx < len(metadata):  # Ensure the index is valid\n",
    "            results.append({\n",
    "                \"rank\": i + 1,\n",
    "                \"file\": metadata[idx][\"file\"],\n",
    "                \"text\": metadata[idx][\"text\"],\n",
    "                \"distance\": float(distances[0][i]),\n",
    "            })\n",
    "        else:\n",
    "            print(f\"Invalid index: {idx} for metadata size: {len(metadata)}\")\n",
    "\n",
    "    return results\n"
   ]
  },
  {
   "cell_type": "markdown",
   "id": "0639cc2c-c780-4052-9fb8-3fc8bc52a300",
   "metadata": {},
   "source": [
    "# Define interactive query system"
   ]
  },
  {
   "cell_type": "code",
   "execution_count": 26,
   "id": "1e580903-b88b-4c46-b37c-62e79d895c60",
   "metadata": {},
   "outputs": [],
   "source": [
    "def query_system(save_results=True):\n",
    "    \"\"\"Interactive query system with an option to save results.\"\"\"\n",
    "    while True:\n",
    "        print(\"\\nWelcome to the Legal Case Retrieval System!\")\n",
    "        print(\"Type 'exit' at any point to quit.\")\n",
    "        print(\"Select a query type:\")\n",
    "        print(\"1. Search by Name\")\n",
    "        print(\"2. Search by Abbreviation\")\n",
    "        print(\"3. Search by Decision Date\")\n",
    "        print(\"4. Search by Jurisdiction\")\n",
    "        print(\"5. Custom Legal Query\")\n",
    "\n",
    "        choice = input(\"Enter choice (1-5): \").strip()\n",
    "        if choice.lower() == \"exit\":\n",
    "            print(\"Exiting the system. Goodbye!\")\n",
    "            break\n",
    "\n",
    "        query = \"\"\n",
    "        if choice == \"1\":\n",
    "            query = input(\"Enter case name: \").strip()\n",
    "        elif choice == \"2\":\n",
    "            query = input(\"Enter case abbreviation: \").strip()\n",
    "        elif choice == \"3\":\n",
    "            query = input(\"Enter decision date (YYYY-MM-DD): \").strip()\n",
    "        elif choice == \"4\":\n",
    "            query = input(\"Enter jurisdiction: \").strip()\n",
    "        elif choice == \"5\":\n",
    "            query = input(\"Enter your custom query: \").strip()\n",
    "        else:\n",
    "            print(\"Invalid choice. Please try again.\")\n",
    "            continue\n",
    "\n",
    "        if query.lower() == \"exit\":\n",
    "            print(\"Exiting the system. Goodbye!\")\n",
    "            break\n",
    "\n",
    "        # Perform the query using precomputed embeddings and metadata\n",
    "        results = query_index(query, index, metadata)\n",
    "\n",
    "        # Display results\n",
    "        print(\"\\nQuery Results:\")\n",
    "        for result in results:\n",
    "            print(f\"Rank: {result['rank']}\")\n",
    "            print(f\"File: {result['file']}\")\n",
    "            print(f\"Text Snippet: {result['text'][:200]}...\")\n",
    "            print(f\"Distance: {result['distance']:.4f}\")\n",
    "            print(\"\\n\")\n",
    "\n",
    "        if save_results:\n",
    "            output_file = f\"query_results_{choice}.json\"\n",
    "            with open(output_file, \"w\") as f:\n",
    "                json.dump(results, f, indent=4)\n",
    "            print(f\"Results saved to {output_file}\")\n",
    "\n",
    "        print(\"\\nWould you like to perform another query?\")\n"
   ]
  },
  {
   "cell_type": "markdown",
   "id": "f7ce147e-060c-4634-b3f0-1e0745d8c00c",
   "metadata": {},
   "source": [
    "# Interactive query system"
   ]
  },
  {
   "cell_type": "code",
   "execution_count": null,
   "id": "addb894c-2f27-40b6-83a4-1fa62226eb2b",
   "metadata": {},
   "outputs": [
    {
     "name": "stdout",
     "output_type": "stream",
     "text": [
      "\n",
      "Welcome to the Legal Case Retrieval System!\n",
      "Type 'exit' at any point to quit.\n",
      "Select a query type:\n",
      "1. Search by Name\n",
      "2. Search by Abbreviation\n",
      "3. Search by Decision Date\n",
      "4. Search by Jurisdiction\n",
      "5. Custom Legal Query\n"
     ]
    },
    {
     "name": "stdin",
     "output_type": "stream",
     "text": [
      "Enter choice (1-5):  What about 1901-11-16?\n"
     ]
    },
    {
     "name": "stdout",
     "output_type": "stream",
     "text": [
      "Invalid choice. Please try again.\n",
      "\n",
      "Welcome to the Legal Case Retrieval System!\n",
      "Type 'exit' at any point to quit.\n",
      "Select a query type:\n",
      "1. Search by Name\n",
      "2. Search by Abbreviation\n",
      "3. Search by Decision Date\n",
      "4. Search by Jurisdiction\n",
      "5. Custom Legal Query\n"
     ]
    }
   ],
   "source": [
    "query_system()"
   ]
  },
  {
   "cell_type": "code",
   "execution_count": null,
   "id": "6715a896-25d7-46be-be6d-71a667fc838b",
   "metadata": {},
   "outputs": [],
   "source": []
  }
 ],
 "metadata": {
  "kernelspec": {
   "display_name": "Python 3 (ipykernel)",
   "language": "python",
   "name": "python3"
  },
  "language_info": {
   "codemirror_mode": {
    "name": "ipython",
    "version": 3
   },
   "file_extension": ".py",
   "mimetype": "text/x-python",
   "name": "python",
   "nbconvert_exporter": "python",
   "pygments_lexer": "ipython3",
   "version": "3.11.10"
  }
 },
 "nbformat": 4,
 "nbformat_minor": 5
}
